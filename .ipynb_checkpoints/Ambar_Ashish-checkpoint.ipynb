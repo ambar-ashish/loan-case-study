{
 "cells": [
  {
   "cell_type": "code",
   "execution_count": 2,
   "id": "2ce616e9",
   "metadata": {},
   "outputs": [],
   "source": [
    "# 0. Understand loan data and keys\n",
    "# 0. Understand all keys\n",
    "# 1. Load data successfully and verify\n",
    "#  - load\n",
    "#  - describe\n",
    "#  - snap\n",
    "#  - head etc\n",
    "\n",
    "# 2. data cleaning (remove columns and rows not required, add mean/mode)\n",
    "# - plain vanilla handling, do something, either remove or fill\n",
    "# - remove columns which has 30% or 40% null values\n",
    "# - optional -> remove rows which have more than 5 column data missing\n",
    "# - ex: if price is the criteria then throw away rows which does not have price data\n",
    "# - ex: landsize has still 10% missing, so describe landsize column (huge variance since min is 0 and max is huge, mean seems completely skewed)\n",
    "# - add mean values\n",
    "# - summarize how many rows were deleted\n",
    "# - HOW - outlier treatment and other kinds of data redundancies? HOW DO WE DO IT\n",
    "# - HOW - data is converted to a suitable and convenient format to work with using the right methods\n",
    "# - HOW - Manipulation of strings and dates is done correctly wherever required.\n",
    "\n",
    "# 3. univariate analysis\n",
    "# - Unordered Categorical Variables (Ex: Rank-Frequency scale, power log distribution)\n",
    "# - Ordered Categorical Variables (Histograms) (Natural order)\n",
    "# - Quantitative Variables (Quantile, Meadian, Mean, Mode, Variance, SD) - Boxplot is helpful\n",
    "\n",
    "# 4. segmented univariate\n",
    "# - Segment data and comparison\n",
    "# - can use pivot table\n",
    "# - comparison of average and other metrics\n",
    "# - boxplot (verify median, min, max, quartile)\n",
    "\n",
    "# 5. bivariate analysis\n",
    "# - on continuos variables - correlation analysis together\n",
    "# - on categorical variables\n",
    "\n",
    "# 6. derived metrics \n",
    "#   - derive data such as columns/one variable\n",
    "#   - variables\n",
    "#    - type driven\n",
    "#    - business driven\n",
    "#    - data driven\n",
    "#   - type driven - categorical, ordinal, interval, ratio (example: DATE, TIME, LOCATION)\n",
    "#   - business driven - Banking (ex: no of txns per month, min balance)\n",
    "#   - data driven metrics - \n",
    "\n",
    "# 7. Plots and graphs\n",
    "# - need to revisit Python for Data Science\n",
    "# - need to revisit Data Visualisation in Python\n",
    "\n",
    "\n",
    "# In python file\n",
    "# - use comments and markdown and code readability"
   ]
  },
  {
   "cell_type": "code",
   "execution_count": 8,
   "id": "0215a19f",
   "metadata": {},
   "outputs": [
    {
     "name": "stderr",
     "output_type": "stream",
     "text": [
      "/var/folders/fx/d8t3jjps6b59ndw7mxk80xth0000gn/T/ipykernel_93924/55606222.py:5: DtypeWarning: Columns (47) have mixed types. Specify dtype option on import or set low_memory=False.\n",
      "  loan_original_df = rating = pd.read_csv(\"loan.csv\")\n"
     ]
    }
   ],
   "source": [
    "# imports which are pre-requisite for working \n",
    "import pandas as pd\n",
    "\n",
    "import warnings\n",
    "warnings.filterwarnings(\"ignore\")\n",
    "\n",
    "#Loading the original data\n",
    "loan_original_df = rating = pd.read_csv(\"loan.csv\")\n",
    "\n",
    "loan_original_df.head();"
   ]
  },
  {
   "cell_type": "code",
   "execution_count": null,
   "id": "154e26f8",
   "metadata": {},
   "outputs": [],
   "source": []
  },
  {
   "cell_type": "code",
   "execution_count": null,
   "id": "049050b1",
   "metadata": {},
   "outputs": [],
   "source": []
  },
  {
   "cell_type": "code",
   "execution_count": null,
   "id": "77900ebe",
   "metadata": {},
   "outputs": [],
   "source": []
  }
 ],
 "metadata": {
  "kernelspec": {
   "display_name": "Python 3 (ipykernel)",
   "language": "python",
   "name": "python3"
  },
  "language_info": {
   "codemirror_mode": {
    "name": "ipython",
    "version": 3
   },
   "file_extension": ".py",
   "mimetype": "text/x-python",
   "name": "python",
   "nbconvert_exporter": "python",
   "pygments_lexer": "ipython3",
   "version": "3.11.5"
  }
 },
 "nbformat": 4,
 "nbformat_minor": 5
}
